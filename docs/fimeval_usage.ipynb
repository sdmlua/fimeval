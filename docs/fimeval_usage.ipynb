{
 "cells": [
  {
   "cell_type": "markdown",
   "metadata": {},
   "source": [
    "### **FIMPEF: A Framework for Automatic Evaluation of Flood Inundation Mapping Predictions Evaluation Framework**"
   ]
  },
  {
   "cell_type": "markdown",
   "metadata": {},
   "source": [
    "#### **1. Installation, setup and Initialization**"
   ]
  },
  {
   "cell_type": "markdown",
   "metadata": {},
   "source": [
    "##### **1.1 Install the fimpef package using pip**"
   ]
  },
  {
   "cell_type": "code",
   "execution_count": 1,
   "metadata": {},
   "outputs": [
    {
     "name": "stdout",
     "output_type": "stream",
     "text": [
      "Requirement already satisfied: fimpef in /opt/anaconda3/envs/fimpef/lib/python3.10/site-packages (0.1.40)\n",
      "Requirement already satisfied: boto3<2.0.0,>=1.36.16 in /opt/anaconda3/envs/fimpef/lib/python3.10/site-packages (from fimpef) (1.36.16)\n",
      "Requirement already satisfied: geopandas<2.0.0,>=1.0.1 in /opt/anaconda3/envs/fimpef/lib/python3.10/site-packages (from fimpef) (1.0.1)\n",
      "Requirement already satisfied: kaleido==0.2.1 in /opt/anaconda3/envs/fimpef/lib/python3.10/site-packages (from fimpef) (0.2.1)\n",
      "Requirement already satisfied: matplotlib<4.0.0,>=3.9.2 in /opt/anaconda3/envs/fimpef/lib/python3.10/site-packages (from fimpef) (3.10.0)\n",
      "Requirement already satisfied: msfootprint<0.2.0,>=0.1.26 in /opt/anaconda3/envs/fimpef/lib/python3.10/site-packages (from fimpef) (0.1.26)\n",
      "Requirement already satisfied: nbformat<6.0.0,>=5.10.4 in /opt/anaconda3/envs/fimpef/lib/python3.10/site-packages (from fimpef) (5.10.4)\n",
      "Requirement already satisfied: notebook<8.0.0,>=7.3.2 in /opt/anaconda3/envs/fimpef/lib/python3.10/site-packages (from fimpef) (7.3.2)\n",
      "Requirement already satisfied: numpy<2 in /opt/anaconda3/envs/fimpef/lib/python3.10/site-packages (from fimpef) (1.26.4)\n",
      "Requirement already satisfied: pathlib<2.0.0,>=1.0.1 in /opt/anaconda3/envs/fimpef/lib/python3.10/site-packages (from fimpef) (1.0.1)\n",
      "Requirement already satisfied: plotly<6.0.0,>=5.24.1 in /opt/anaconda3/envs/fimpef/lib/python3.10/site-packages (from fimpef) (5.24.1)\n",
      "Requirement already satisfied: pyproj<4.0.0,>=3.7.0 in /opt/anaconda3/envs/fimpef/lib/python3.10/site-packages (from fimpef) (3.7.0)\n",
      "Requirement already satisfied: pytest<9.0.0,>=8.3.3 in /opt/anaconda3/envs/fimpef/lib/python3.10/site-packages (from fimpef) (8.3.4)\n",
      "Requirement already satisfied: rasterio<2.0.0,>=1.4.2 in /opt/anaconda3/envs/fimpef/lib/python3.10/site-packages (from fimpef) (1.4.3)\n",
      "Requirement already satisfied: shapely<3.0.0,>=2.0.6 in /opt/anaconda3/envs/fimpef/lib/python3.10/site-packages (from fimpef) (2.0.7)\n",
      "Requirement already satisfied: botocore<1.37.0,>=1.36.16 in /opt/anaconda3/envs/fimpef/lib/python3.10/site-packages (from boto3<2.0.0,>=1.36.16->fimpef) (1.36.16)\n",
      "Requirement already satisfied: jmespath<2.0.0,>=0.7.1 in /opt/anaconda3/envs/fimpef/lib/python3.10/site-packages (from boto3<2.0.0,>=1.36.16->fimpef) (1.0.1)\n",
      "Requirement already satisfied: s3transfer<0.12.0,>=0.11.0 in /opt/anaconda3/envs/fimpef/lib/python3.10/site-packages (from boto3<2.0.0,>=1.36.16->fimpef) (0.11.2)\n",
      "Requirement already satisfied: pyogrio>=0.7.2 in /opt/anaconda3/envs/fimpef/lib/python3.10/site-packages (from geopandas<2.0.0,>=1.0.1->fimpef) (0.10.0)\n",
      "Requirement already satisfied: packaging in /opt/anaconda3/envs/fimpef/lib/python3.10/site-packages (from geopandas<2.0.0,>=1.0.1->fimpef) (24.2)\n",
      "Requirement already satisfied: pandas>=1.4.0 in /opt/anaconda3/envs/fimpef/lib/python3.10/site-packages (from geopandas<2.0.0,>=1.0.1->fimpef) (2.2.3)\n",
      "Requirement already satisfied: contourpy>=1.0.1 in /opt/anaconda3/envs/fimpef/lib/python3.10/site-packages (from matplotlib<4.0.0,>=3.9.2->fimpef) (1.3.1)\n",
      "Requirement already satisfied: cycler>=0.10 in /opt/anaconda3/envs/fimpef/lib/python3.10/site-packages (from matplotlib<4.0.0,>=3.9.2->fimpef) (0.12.1)\n",
      "Requirement already satisfied: fonttools>=4.22.0 in /opt/anaconda3/envs/fimpef/lib/python3.10/site-packages (from matplotlib<4.0.0,>=3.9.2->fimpef) (4.56.0)\n",
      "Requirement already satisfied: kiwisolver>=1.3.1 in /opt/anaconda3/envs/fimpef/lib/python3.10/site-packages (from matplotlib<4.0.0,>=3.9.2->fimpef) (1.4.8)\n",
      "Requirement already satisfied: pillow>=8 in /opt/anaconda3/envs/fimpef/lib/python3.10/site-packages (from matplotlib<4.0.0,>=3.9.2->fimpef) (11.1.0)\n",
      "Requirement already satisfied: pyparsing>=2.3.1 in /opt/anaconda3/envs/fimpef/lib/python3.10/site-packages (from matplotlib<4.0.0,>=3.9.2->fimpef) (3.2.1)\n",
      "Requirement already satisfied: python-dateutil>=2.7 in /opt/anaconda3/envs/fimpef/lib/python3.10/site-packages (from matplotlib<4.0.0,>=3.9.2->fimpef) (2.9.0.post0)\n",
      "Requirement already satisfied: fiona<2.0.0,>=1.10.1 in /opt/anaconda3/envs/fimpef/lib/python3.10/site-packages (from msfootprint<0.2.0,>=0.1.26->fimpef) (1.10.1)\n",
      "Requirement already satisfied: geemap<0.36.0,>=0.35.1 in /opt/anaconda3/envs/fimpef/lib/python3.10/site-packages (from msfootprint<0.2.0,>=0.1.26->fimpef) (0.35.1)\n",
      "Requirement already satisfied: pyspark<4.0.0,>=3.5.4 in /opt/anaconda3/envs/fimpef/lib/python3.10/site-packages (from msfootprint<0.2.0,>=0.1.26->fimpef) (3.5.4)\n",
      "Requirement already satisfied: fastjsonschema>=2.15 in /opt/anaconda3/envs/fimpef/lib/python3.10/site-packages (from nbformat<6.0.0,>=5.10.4->fimpef) (2.21.1)\n",
      "Requirement already satisfied: jsonschema>=2.6 in /opt/anaconda3/envs/fimpef/lib/python3.10/site-packages (from nbformat<6.0.0,>=5.10.4->fimpef) (4.23.0)\n",
      "Requirement already satisfied: jupyter-core!=5.0.*,>=4.12 in /opt/anaconda3/envs/fimpef/lib/python3.10/site-packages (from nbformat<6.0.0,>=5.10.4->fimpef) (5.7.2)\n",
      "Requirement already satisfied: traitlets>=5.1 in /opt/anaconda3/envs/fimpef/lib/python3.10/site-packages (from nbformat<6.0.0,>=5.10.4->fimpef) (5.14.3)\n",
      "Requirement already satisfied: jupyter-server<3,>=2.4.0 in /opt/anaconda3/envs/fimpef/lib/python3.10/site-packages (from notebook<8.0.0,>=7.3.2->fimpef) (2.15.0)\n",
      "Requirement already satisfied: jupyterlab-server<3,>=2.27.1 in /opt/anaconda3/envs/fimpef/lib/python3.10/site-packages (from notebook<8.0.0,>=7.3.2->fimpef) (2.27.3)\n",
      "Requirement already satisfied: jupyterlab<4.4,>=4.3.4 in /opt/anaconda3/envs/fimpef/lib/python3.10/site-packages (from notebook<8.0.0,>=7.3.2->fimpef) (4.3.5)\n",
      "Requirement already satisfied: notebook-shim<0.3,>=0.2 in /opt/anaconda3/envs/fimpef/lib/python3.10/site-packages (from notebook<8.0.0,>=7.3.2->fimpef) (0.2.4)\n",
      "Requirement already satisfied: tornado>=6.2.0 in /opt/anaconda3/envs/fimpef/lib/python3.10/site-packages (from notebook<8.0.0,>=7.3.2->fimpef) (6.4.2)\n",
      "Requirement already satisfied: tenacity>=6.2.0 in /opt/anaconda3/envs/fimpef/lib/python3.10/site-packages (from plotly<6.0.0,>=5.24.1->fimpef) (9.0.0)\n",
      "Requirement already satisfied: certifi in /opt/anaconda3/envs/fimpef/lib/python3.10/site-packages (from pyproj<4.0.0,>=3.7.0->fimpef) (2025.1.31)\n",
      "Requirement already satisfied: exceptiongroup>=1.0.0rc8 in /opt/anaconda3/envs/fimpef/lib/python3.10/site-packages (from pytest<9.0.0,>=8.3.3->fimpef) (1.2.2)\n",
      "Requirement already satisfied: iniconfig in /opt/anaconda3/envs/fimpef/lib/python3.10/site-packages (from pytest<9.0.0,>=8.3.3->fimpef) (2.0.0)\n",
      "Requirement already satisfied: pluggy<2,>=1.5 in /opt/anaconda3/envs/fimpef/lib/python3.10/site-packages (from pytest<9.0.0,>=8.3.3->fimpef) (1.5.0)\n",
      "Requirement already satisfied: tomli>=1 in /opt/anaconda3/envs/fimpef/lib/python3.10/site-packages (from pytest<9.0.0,>=8.3.3->fimpef) (2.2.1)\n",
      "Requirement already satisfied: affine in /opt/anaconda3/envs/fimpef/lib/python3.10/site-packages (from rasterio<2.0.0,>=1.4.2->fimpef) (2.4.0)\n",
      "Requirement already satisfied: attrs in /opt/anaconda3/envs/fimpef/lib/python3.10/site-packages (from rasterio<2.0.0,>=1.4.2->fimpef) (25.1.0)\n",
      "Requirement already satisfied: click>=4.0 in /opt/anaconda3/envs/fimpef/lib/python3.10/site-packages (from rasterio<2.0.0,>=1.4.2->fimpef) (8.1.8)\n",
      "Requirement already satisfied: cligj>=0.5 in /opt/anaconda3/envs/fimpef/lib/python3.10/site-packages (from rasterio<2.0.0,>=1.4.2->fimpef) (0.7.2)\n",
      "Requirement already satisfied: click-plugins in /opt/anaconda3/envs/fimpef/lib/python3.10/site-packages (from rasterio<2.0.0,>=1.4.2->fimpef) (1.1.1)\n",
      "Requirement already satisfied: urllib3!=2.2.0,<3,>=1.25.4 in /opt/anaconda3/envs/fimpef/lib/python3.10/site-packages (from botocore<1.37.0,>=1.36.16->boto3<2.0.0,>=1.36.16->fimpef) (2.3.0)\n",
      "Requirement already satisfied: bqplot in /opt/anaconda3/envs/fimpef/lib/python3.10/site-packages (from geemap<0.36.0,>=0.35.1->msfootprint<0.2.0,>=0.1.26->fimpef) (0.12.44)\n",
      "Requirement already satisfied: colour in /opt/anaconda3/envs/fimpef/lib/python3.10/site-packages (from geemap<0.36.0,>=0.35.1->msfootprint<0.2.0,>=0.1.26->fimpef) (0.1.5)\n",
      "Requirement already satisfied: earthengine-api>=1.0.0 in /opt/anaconda3/envs/fimpef/lib/python3.10/site-packages (from geemap<0.36.0,>=0.35.1->msfootprint<0.2.0,>=0.1.26->fimpef) (1.5.1)\n",
      "Requirement already satisfied: eerepr>=0.0.4 in /opt/anaconda3/envs/fimpef/lib/python3.10/site-packages (from geemap<0.36.0,>=0.35.1->msfootprint<0.2.0,>=0.1.26->fimpef) (0.1.0)\n",
      "Requirement already satisfied: folium>=0.17.0 in /opt/anaconda3/envs/fimpef/lib/python3.10/site-packages (from geemap<0.36.0,>=0.35.1->msfootprint<0.2.0,>=0.1.26->fimpef) (0.19.4)\n",
      "Requirement already satisfied: geocoder in /opt/anaconda3/envs/fimpef/lib/python3.10/site-packages (from geemap<0.36.0,>=0.35.1->msfootprint<0.2.0,>=0.1.26->fimpef) (1.38.1)\n",
      "Requirement already satisfied: ipyevents in /opt/anaconda3/envs/fimpef/lib/python3.10/site-packages (from geemap<0.36.0,>=0.35.1->msfootprint<0.2.0,>=0.1.26->fimpef) (2.0.2)\n",
      "Requirement already satisfied: ipyfilechooser>=0.6.0 in /opt/anaconda3/envs/fimpef/lib/python3.10/site-packages (from geemap<0.36.0,>=0.35.1->msfootprint<0.2.0,>=0.1.26->fimpef) (0.6.0)\n",
      "Requirement already satisfied: ipyleaflet>=0.19.2 in /opt/anaconda3/envs/fimpef/lib/python3.10/site-packages (from geemap<0.36.0,>=0.35.1->msfootprint<0.2.0,>=0.1.26->fimpef) (0.19.2)\n",
      "Requirement already satisfied: ipytree in /opt/anaconda3/envs/fimpef/lib/python3.10/site-packages (from geemap<0.36.0,>=0.35.1->msfootprint<0.2.0,>=0.1.26->fimpef) (0.2.2)\n",
      "Requirement already satisfied: pyperclip in /opt/anaconda3/envs/fimpef/lib/python3.10/site-packages (from geemap<0.36.0,>=0.35.1->msfootprint<0.2.0,>=0.1.26->fimpef) (1.9.0)\n",
      "Requirement already satisfied: pyshp>=2.3.1 in /opt/anaconda3/envs/fimpef/lib/python3.10/site-packages (from geemap<0.36.0,>=0.35.1->msfootprint<0.2.0,>=0.1.26->fimpef) (2.3.1)\n",
      "Requirement already satisfied: python-box in /opt/anaconda3/envs/fimpef/lib/python3.10/site-packages (from geemap<0.36.0,>=0.35.1->msfootprint<0.2.0,>=0.1.26->fimpef) (7.3.2)\n",
      "Requirement already satisfied: scooby in /opt/anaconda3/envs/fimpef/lib/python3.10/site-packages (from geemap<0.36.0,>=0.35.1->msfootprint<0.2.0,>=0.1.26->fimpef) (0.10.0)\n",
      "Requirement already satisfied: jsonschema-specifications>=2023.03.6 in /opt/anaconda3/envs/fimpef/lib/python3.10/site-packages (from jsonschema>=2.6->nbformat<6.0.0,>=5.10.4->fimpef) (2024.10.1)\n",
      "Requirement already satisfied: referencing>=0.28.4 in /opt/anaconda3/envs/fimpef/lib/python3.10/site-packages (from jsonschema>=2.6->nbformat<6.0.0,>=5.10.4->fimpef) (0.36.2)\n",
      "Requirement already satisfied: rpds-py>=0.7.1 in /opt/anaconda3/envs/fimpef/lib/python3.10/site-packages (from jsonschema>=2.6->nbformat<6.0.0,>=5.10.4->fimpef) (0.22.3)\n",
      "Requirement already satisfied: platformdirs>=2.5 in /opt/anaconda3/envs/fimpef/lib/python3.10/site-packages (from jupyter-core!=5.0.*,>=4.12->nbformat<6.0.0,>=5.10.4->fimpef) (4.3.6)\n",
      "Requirement already satisfied: anyio>=3.1.0 in /opt/anaconda3/envs/fimpef/lib/python3.10/site-packages (from jupyter-server<3,>=2.4.0->notebook<8.0.0,>=7.3.2->fimpef) (4.8.0)\n",
      "Requirement already satisfied: argon2-cffi>=21.1 in /opt/anaconda3/envs/fimpef/lib/python3.10/site-packages (from jupyter-server<3,>=2.4.0->notebook<8.0.0,>=7.3.2->fimpef) (23.1.0)\n",
      "Requirement already satisfied: jinja2>=3.0.3 in /opt/anaconda3/envs/fimpef/lib/python3.10/site-packages (from jupyter-server<3,>=2.4.0->notebook<8.0.0,>=7.3.2->fimpef) (3.1.5)\n",
      "Requirement already satisfied: jupyter-client>=7.4.4 in /opt/anaconda3/envs/fimpef/lib/python3.10/site-packages (from jupyter-server<3,>=2.4.0->notebook<8.0.0,>=7.3.2->fimpef) (8.6.3)\n",
      "Requirement already satisfied: jupyter-events>=0.11.0 in /opt/anaconda3/envs/fimpef/lib/python3.10/site-packages (from jupyter-server<3,>=2.4.0->notebook<8.0.0,>=7.3.2->fimpef) (0.12.0)\n",
      "Requirement already satisfied: jupyter-server-terminals>=0.4.4 in /opt/anaconda3/envs/fimpef/lib/python3.10/site-packages (from jupyter-server<3,>=2.4.0->notebook<8.0.0,>=7.3.2->fimpef) (0.5.3)\n",
      "Requirement already satisfied: nbconvert>=6.4.4 in /opt/anaconda3/envs/fimpef/lib/python3.10/site-packages (from jupyter-server<3,>=2.4.0->notebook<8.0.0,>=7.3.2->fimpef) (7.16.6)\n",
      "Requirement already satisfied: overrides>=5.0 in /opt/anaconda3/envs/fimpef/lib/python3.10/site-packages (from jupyter-server<3,>=2.4.0->notebook<8.0.0,>=7.3.2->fimpef) (7.7.0)\n",
      "Requirement already satisfied: prometheus-client>=0.9 in /opt/anaconda3/envs/fimpef/lib/python3.10/site-packages (from jupyter-server<3,>=2.4.0->notebook<8.0.0,>=7.3.2->fimpef) (0.21.1)\n",
      "Requirement already satisfied: pyzmq>=24 in /opt/anaconda3/envs/fimpef/lib/python3.10/site-packages (from jupyter-server<3,>=2.4.0->notebook<8.0.0,>=7.3.2->fimpef) (26.2.1)\n",
      "Requirement already satisfied: send2trash>=1.8.2 in /opt/anaconda3/envs/fimpef/lib/python3.10/site-packages (from jupyter-server<3,>=2.4.0->notebook<8.0.0,>=7.3.2->fimpef) (1.8.3)\n",
      "Requirement already satisfied: terminado>=0.8.3 in /opt/anaconda3/envs/fimpef/lib/python3.10/site-packages (from jupyter-server<3,>=2.4.0->notebook<8.0.0,>=7.3.2->fimpef) (0.18.1)\n",
      "Requirement already satisfied: websocket-client>=1.7 in /opt/anaconda3/envs/fimpef/lib/python3.10/site-packages (from jupyter-server<3,>=2.4.0->notebook<8.0.0,>=7.3.2->fimpef) (1.8.0)\n",
      "Requirement already satisfied: async-lru>=1.0.0 in /opt/anaconda3/envs/fimpef/lib/python3.10/site-packages (from jupyterlab<4.4,>=4.3.4->notebook<8.0.0,>=7.3.2->fimpef) (2.0.4)\n",
      "Requirement already satisfied: httpx>=0.25.0 in /opt/anaconda3/envs/fimpef/lib/python3.10/site-packages (from jupyterlab<4.4,>=4.3.4->notebook<8.0.0,>=7.3.2->fimpef) (0.28.1)\n",
      "Requirement already satisfied: ipykernel>=6.5.0 in /opt/anaconda3/envs/fimpef/lib/python3.10/site-packages (from jupyterlab<4.4,>=4.3.4->notebook<8.0.0,>=7.3.2->fimpef) (6.29.5)\n",
      "Requirement already satisfied: jupyter-lsp>=2.0.0 in /opt/anaconda3/envs/fimpef/lib/python3.10/site-packages (from jupyterlab<4.4,>=4.3.4->notebook<8.0.0,>=7.3.2->fimpef) (2.2.5)\n",
      "Requirement already satisfied: setuptools>=40.8.0 in /opt/anaconda3/envs/fimpef/lib/python3.10/site-packages (from jupyterlab<4.4,>=4.3.4->notebook<8.0.0,>=7.3.2->fimpef) (75.8.0)\n",
      "Requirement already satisfied: babel>=2.10 in /opt/anaconda3/envs/fimpef/lib/python3.10/site-packages (from jupyterlab-server<3,>=2.27.1->notebook<8.0.0,>=7.3.2->fimpef) (2.17.0)\n",
      "Requirement already satisfied: json5>=0.9.0 in /opt/anaconda3/envs/fimpef/lib/python3.10/site-packages (from jupyterlab-server<3,>=2.27.1->notebook<8.0.0,>=7.3.2->fimpef) (0.10.0)\n",
      "Requirement already satisfied: requests>=2.31 in /opt/anaconda3/envs/fimpef/lib/python3.10/site-packages (from jupyterlab-server<3,>=2.27.1->notebook<8.0.0,>=7.3.2->fimpef) (2.32.3)\n",
      "Requirement already satisfied: pytz>=2020.1 in /opt/anaconda3/envs/fimpef/lib/python3.10/site-packages (from pandas>=1.4.0->geopandas<2.0.0,>=1.0.1->fimpef) (2025.1)\n",
      "Requirement already satisfied: tzdata>=2022.7 in /opt/anaconda3/envs/fimpef/lib/python3.10/site-packages (from pandas>=1.4.0->geopandas<2.0.0,>=1.0.1->fimpef) (2025.1)\n",
      "Requirement already satisfied: py4j==0.10.9.7 in /opt/anaconda3/envs/fimpef/lib/python3.10/site-packages (from pyspark<4.0.0,>=3.5.4->msfootprint<0.2.0,>=0.1.26->fimpef) (0.10.9.7)\n",
      "Requirement already satisfied: six>=1.5 in /opt/anaconda3/envs/fimpef/lib/python3.10/site-packages (from python-dateutil>=2.7->matplotlib<4.0.0,>=3.9.2->fimpef) (1.17.0)\n",
      "Requirement already satisfied: idna>=2.8 in /opt/anaconda3/envs/fimpef/lib/python3.10/site-packages (from anyio>=3.1.0->jupyter-server<3,>=2.4.0->notebook<8.0.0,>=7.3.2->fimpef) (3.10)\n",
      "Requirement already satisfied: sniffio>=1.1 in /opt/anaconda3/envs/fimpef/lib/python3.10/site-packages (from anyio>=3.1.0->jupyter-server<3,>=2.4.0->notebook<8.0.0,>=7.3.2->fimpef) (1.3.1)\n",
      "Requirement already satisfied: typing_extensions>=4.5 in /opt/anaconda3/envs/fimpef/lib/python3.10/site-packages (from anyio>=3.1.0->jupyter-server<3,>=2.4.0->notebook<8.0.0,>=7.3.2->fimpef) (4.12.2)\n",
      "Requirement already satisfied: argon2-cffi-bindings in /opt/anaconda3/envs/fimpef/lib/python3.10/site-packages (from argon2-cffi>=21.1->jupyter-server<3,>=2.4.0->notebook<8.0.0,>=7.3.2->fimpef) (21.2.0)\n",
      "Requirement already satisfied: google-cloud-storage in /opt/anaconda3/envs/fimpef/lib/python3.10/site-packages (from earthengine-api>=1.0.0->geemap<0.36.0,>=0.35.1->msfootprint<0.2.0,>=0.1.26->fimpef) (3.0.0)\n",
      "Requirement already satisfied: google-api-python-client>=1.12.1 in /opt/anaconda3/envs/fimpef/lib/python3.10/site-packages (from earthengine-api>=1.0.0->geemap<0.36.0,>=0.35.1->msfootprint<0.2.0,>=0.1.26->fimpef) (2.160.0)\n",
      "Requirement already satisfied: google-auth>=1.4.1 in /opt/anaconda3/envs/fimpef/lib/python3.10/site-packages (from earthengine-api>=1.0.0->geemap<0.36.0,>=0.35.1->msfootprint<0.2.0,>=0.1.26->fimpef) (2.38.0)\n",
      "Requirement already satisfied: google-auth-httplib2>=0.0.3 in /opt/anaconda3/envs/fimpef/lib/python3.10/site-packages (from earthengine-api>=1.0.0->geemap<0.36.0,>=0.35.1->msfootprint<0.2.0,>=0.1.26->fimpef) (0.2.0)\n",
      "Requirement already satisfied: httplib2<1dev,>=0.9.2 in /opt/anaconda3/envs/fimpef/lib/python3.10/site-packages (from earthengine-api>=1.0.0->geemap<0.36.0,>=0.35.1->msfootprint<0.2.0,>=0.1.26->fimpef) (0.22.0)\n",
      "Requirement already satisfied: branca>=0.6.0 in /opt/anaconda3/envs/fimpef/lib/python3.10/site-packages (from folium>=0.17.0->geemap<0.36.0,>=0.35.1->msfootprint<0.2.0,>=0.1.26->fimpef) (0.8.1)\n",
      "Requirement already satisfied: xyzservices in /opt/anaconda3/envs/fimpef/lib/python3.10/site-packages (from folium>=0.17.0->geemap<0.36.0,>=0.35.1->msfootprint<0.2.0,>=0.1.26->fimpef) (2025.1.0)\n",
      "Requirement already satisfied: httpcore==1.* in /opt/anaconda3/envs/fimpef/lib/python3.10/site-packages (from httpx>=0.25.0->jupyterlab<4.4,>=4.3.4->notebook<8.0.0,>=7.3.2->fimpef) (1.0.7)\n",
      "Requirement already satisfied: h11<0.15,>=0.13 in /opt/anaconda3/envs/fimpef/lib/python3.10/site-packages (from httpcore==1.*->httpx>=0.25.0->jupyterlab<4.4,>=4.3.4->notebook<8.0.0,>=7.3.2->fimpef) (0.14.0)\n",
      "Requirement already satisfied: ipywidgets in /opt/anaconda3/envs/fimpef/lib/python3.10/site-packages (from ipyfilechooser>=0.6.0->geemap<0.36.0,>=0.35.1->msfootprint<0.2.0,>=0.1.26->fimpef) (8.1.5)\n",
      "Requirement already satisfied: appnope in /opt/anaconda3/envs/fimpef/lib/python3.10/site-packages (from ipykernel>=6.5.0->jupyterlab<4.4,>=4.3.4->notebook<8.0.0,>=7.3.2->fimpef) (0.1.4)\n",
      "Requirement already satisfied: comm>=0.1.1 in /opt/anaconda3/envs/fimpef/lib/python3.10/site-packages (from ipykernel>=6.5.0->jupyterlab<4.4,>=4.3.4->notebook<8.0.0,>=7.3.2->fimpef) (0.2.2)\n",
      "Requirement already satisfied: debugpy>=1.6.5 in /opt/anaconda3/envs/fimpef/lib/python3.10/site-packages (from ipykernel>=6.5.0->jupyterlab<4.4,>=4.3.4->notebook<8.0.0,>=7.3.2->fimpef) (1.8.12)\n",
      "Requirement already satisfied: ipython>=7.23.1 in /opt/anaconda3/envs/fimpef/lib/python3.10/site-packages (from ipykernel>=6.5.0->jupyterlab<4.4,>=4.3.4->notebook<8.0.0,>=7.3.2->fimpef) (8.32.0)\n",
      "Requirement already satisfied: matplotlib-inline>=0.1 in /opt/anaconda3/envs/fimpef/lib/python3.10/site-packages (from ipykernel>=6.5.0->jupyterlab<4.4,>=4.3.4->notebook<8.0.0,>=7.3.2->fimpef) (0.1.7)\n",
      "Requirement already satisfied: nest-asyncio in /opt/anaconda3/envs/fimpef/lib/python3.10/site-packages (from ipykernel>=6.5.0->jupyterlab<4.4,>=4.3.4->notebook<8.0.0,>=7.3.2->fimpef) (1.6.0)\n",
      "Requirement already satisfied: psutil in /opt/anaconda3/envs/fimpef/lib/python3.10/site-packages (from ipykernel>=6.5.0->jupyterlab<4.4,>=4.3.4->notebook<8.0.0,>=7.3.2->fimpef) (6.1.1)\n",
      "Requirement already satisfied: jupyter-leaflet<0.20,>=0.19 in /opt/anaconda3/envs/fimpef/lib/python3.10/site-packages (from ipyleaflet>=0.19.2->geemap<0.36.0,>=0.35.1->msfootprint<0.2.0,>=0.1.26->fimpef) (0.19.2)\n",
      "Requirement already satisfied: traittypes<3,>=0.2.1 in /opt/anaconda3/envs/fimpef/lib/python3.10/site-packages (from ipyleaflet>=0.19.2->geemap<0.36.0,>=0.35.1->msfootprint<0.2.0,>=0.1.26->fimpef) (0.2.1)\n",
      "Requirement already satisfied: MarkupSafe>=2.0 in /opt/anaconda3/envs/fimpef/lib/python3.10/site-packages (from jinja2>=3.0.3->jupyter-server<3,>=2.4.0->notebook<8.0.0,>=7.3.2->fimpef) (3.0.2)\n",
      "Requirement already satisfied: python-json-logger>=2.0.4 in /opt/anaconda3/envs/fimpef/lib/python3.10/site-packages (from jupyter-events>=0.11.0->jupyter-server<3,>=2.4.0->notebook<8.0.0,>=7.3.2->fimpef) (3.2.1)\n",
      "Requirement already satisfied: pyyaml>=5.3 in /opt/anaconda3/envs/fimpef/lib/python3.10/site-packages (from jupyter-events>=0.11.0->jupyter-server<3,>=2.4.0->notebook<8.0.0,>=7.3.2->fimpef) (6.0.2)\n",
      "Requirement already satisfied: rfc3339-validator in /opt/anaconda3/envs/fimpef/lib/python3.10/site-packages (from jupyter-events>=0.11.0->jupyter-server<3,>=2.4.0->notebook<8.0.0,>=7.3.2->fimpef) (0.1.4)\n",
      "Requirement already satisfied: rfc3986-validator>=0.1.1 in /opt/anaconda3/envs/fimpef/lib/python3.10/site-packages (from jupyter-events>=0.11.0->jupyter-server<3,>=2.4.0->notebook<8.0.0,>=7.3.2->fimpef) (0.1.1)\n",
      "Requirement already satisfied: beautifulsoup4 in /opt/anaconda3/envs/fimpef/lib/python3.10/site-packages (from nbconvert>=6.4.4->jupyter-server<3,>=2.4.0->notebook<8.0.0,>=7.3.2->fimpef) (4.13.3)\n",
      "Requirement already satisfied: bleach!=5.0.0 in /opt/anaconda3/envs/fimpef/lib/python3.10/site-packages (from bleach[css]!=5.0.0->nbconvert>=6.4.4->jupyter-server<3,>=2.4.0->notebook<8.0.0,>=7.3.2->fimpef) (6.2.0)\n",
      "Requirement already satisfied: defusedxml in /opt/anaconda3/envs/fimpef/lib/python3.10/site-packages (from nbconvert>=6.4.4->jupyter-server<3,>=2.4.0->notebook<8.0.0,>=7.3.2->fimpef) (0.7.1)\n",
      "Requirement already satisfied: jupyterlab-pygments in /opt/anaconda3/envs/fimpef/lib/python3.10/site-packages (from nbconvert>=6.4.4->jupyter-server<3,>=2.4.0->notebook<8.0.0,>=7.3.2->fimpef) (0.3.0)\n",
      "Requirement already satisfied: mistune<4,>=2.0.3 in /opt/anaconda3/envs/fimpef/lib/python3.10/site-packages (from nbconvert>=6.4.4->jupyter-server<3,>=2.4.0->notebook<8.0.0,>=7.3.2->fimpef) (3.1.1)\n",
      "Requirement already satisfied: nbclient>=0.5.0 in /opt/anaconda3/envs/fimpef/lib/python3.10/site-packages (from nbconvert>=6.4.4->jupyter-server<3,>=2.4.0->notebook<8.0.0,>=7.3.2->fimpef) (0.10.2)\n",
      "Requirement already satisfied: pandocfilters>=1.4.1 in /opt/anaconda3/envs/fimpef/lib/python3.10/site-packages (from nbconvert>=6.4.4->jupyter-server<3,>=2.4.0->notebook<8.0.0,>=7.3.2->fimpef) (1.5.1)\n",
      "Requirement already satisfied: pygments>=2.4.1 in /opt/anaconda3/envs/fimpef/lib/python3.10/site-packages (from nbconvert>=6.4.4->jupyter-server<3,>=2.4.0->notebook<8.0.0,>=7.3.2->fimpef) (2.19.1)\n",
      "Requirement already satisfied: charset-normalizer<4,>=2 in /opt/anaconda3/envs/fimpef/lib/python3.10/site-packages (from requests>=2.31->jupyterlab-server<3,>=2.27.1->notebook<8.0.0,>=7.3.2->fimpef) (3.4.1)\n",
      "Requirement already satisfied: ptyprocess in /opt/anaconda3/envs/fimpef/lib/python3.10/site-packages (from terminado>=0.8.3->jupyter-server<3,>=2.4.0->notebook<8.0.0,>=7.3.2->fimpef) (0.7.0)\n",
      "Requirement already satisfied: future in /opt/anaconda3/envs/fimpef/lib/python3.10/site-packages (from geocoder->geemap<0.36.0,>=0.35.1->msfootprint<0.2.0,>=0.1.26->fimpef) (1.0.0)\n",
      "Requirement already satisfied: ratelim in /opt/anaconda3/envs/fimpef/lib/python3.10/site-packages (from geocoder->geemap<0.36.0,>=0.35.1->msfootprint<0.2.0,>=0.1.26->fimpef) (0.1.6)\n",
      "Requirement already satisfied: webencodings in /opt/anaconda3/envs/fimpef/lib/python3.10/site-packages (from bleach!=5.0.0->bleach[css]!=5.0.0->nbconvert>=6.4.4->jupyter-server<3,>=2.4.0->notebook<8.0.0,>=7.3.2->fimpef) (0.5.1)\n",
      "Requirement already satisfied: tinycss2<1.5,>=1.1.0 in /opt/anaconda3/envs/fimpef/lib/python3.10/site-packages (from bleach[css]!=5.0.0->nbconvert>=6.4.4->jupyter-server<3,>=2.4.0->notebook<8.0.0,>=7.3.2->fimpef) (1.4.0)\n",
      "Requirement already satisfied: google-api-core!=2.0.*,!=2.1.*,!=2.2.*,!=2.3.0,<3.0.0.dev0,>=1.31.5 in /opt/anaconda3/envs/fimpef/lib/python3.10/site-packages (from google-api-python-client>=1.12.1->earthengine-api>=1.0.0->geemap<0.36.0,>=0.35.1->msfootprint<0.2.0,>=0.1.26->fimpef) (2.24.1)\n",
      "Requirement already satisfied: uritemplate<5,>=3.0.1 in /opt/anaconda3/envs/fimpef/lib/python3.10/site-packages (from google-api-python-client>=1.12.1->earthengine-api>=1.0.0->geemap<0.36.0,>=0.35.1->msfootprint<0.2.0,>=0.1.26->fimpef) (4.1.1)\n",
      "Requirement already satisfied: cachetools<6.0,>=2.0.0 in /opt/anaconda3/envs/fimpef/lib/python3.10/site-packages (from google-auth>=1.4.1->earthengine-api>=1.0.0->geemap<0.36.0,>=0.35.1->msfootprint<0.2.0,>=0.1.26->fimpef) (5.5.1)\n",
      "Requirement already satisfied: pyasn1-modules>=0.2.1 in /opt/anaconda3/envs/fimpef/lib/python3.10/site-packages (from google-auth>=1.4.1->earthengine-api>=1.0.0->geemap<0.36.0,>=0.35.1->msfootprint<0.2.0,>=0.1.26->fimpef) (0.4.1)\n",
      "Requirement already satisfied: rsa<5,>=3.1.4 in /opt/anaconda3/envs/fimpef/lib/python3.10/site-packages (from google-auth>=1.4.1->earthengine-api>=1.0.0->geemap<0.36.0,>=0.35.1->msfootprint<0.2.0,>=0.1.26->fimpef) (4.9)\n",
      "Requirement already satisfied: decorator in /opt/anaconda3/envs/fimpef/lib/python3.10/site-packages (from ipython>=7.23.1->ipykernel>=6.5.0->jupyterlab<4.4,>=4.3.4->notebook<8.0.0,>=7.3.2->fimpef) (5.1.1)\n",
      "Requirement already satisfied: jedi>=0.16 in /opt/anaconda3/envs/fimpef/lib/python3.10/site-packages (from ipython>=7.23.1->ipykernel>=6.5.0->jupyterlab<4.4,>=4.3.4->notebook<8.0.0,>=7.3.2->fimpef) (0.19.2)\n",
      "Requirement already satisfied: pexpect>4.3 in /opt/anaconda3/envs/fimpef/lib/python3.10/site-packages (from ipython>=7.23.1->ipykernel>=6.5.0->jupyterlab<4.4,>=4.3.4->notebook<8.0.0,>=7.3.2->fimpef) (4.9.0)\n",
      "Requirement already satisfied: prompt_toolkit<3.1.0,>=3.0.41 in /opt/anaconda3/envs/fimpef/lib/python3.10/site-packages (from ipython>=7.23.1->ipykernel>=6.5.0->jupyterlab<4.4,>=4.3.4->notebook<8.0.0,>=7.3.2->fimpef) (3.0.50)\n",
      "Requirement already satisfied: stack_data in /opt/anaconda3/envs/fimpef/lib/python3.10/site-packages (from ipython>=7.23.1->ipykernel>=6.5.0->jupyterlab<4.4,>=4.3.4->notebook<8.0.0,>=7.3.2->fimpef) (0.6.3)\n",
      "Requirement already satisfied: widgetsnbextension~=4.0.12 in /opt/anaconda3/envs/fimpef/lib/python3.10/site-packages (from ipywidgets->ipyfilechooser>=0.6.0->geemap<0.36.0,>=0.35.1->msfootprint<0.2.0,>=0.1.26->fimpef) (4.0.13)\n",
      "Requirement already satisfied: jupyterlab-widgets~=3.0.12 in /opt/anaconda3/envs/fimpef/lib/python3.10/site-packages (from ipywidgets->ipyfilechooser>=0.6.0->geemap<0.36.0,>=0.35.1->msfootprint<0.2.0,>=0.1.26->fimpef) (3.0.13)\n",
      "Requirement already satisfied: fqdn in /opt/anaconda3/envs/fimpef/lib/python3.10/site-packages (from jsonschema[format-nongpl]>=4.18.0->jupyter-events>=0.11.0->jupyter-server<3,>=2.4.0->notebook<8.0.0,>=7.3.2->fimpef) (1.5.1)\n",
      "Requirement already satisfied: isoduration in /opt/anaconda3/envs/fimpef/lib/python3.10/site-packages (from jsonschema[format-nongpl]>=4.18.0->jupyter-events>=0.11.0->jupyter-server<3,>=2.4.0->notebook<8.0.0,>=7.3.2->fimpef) (20.11.0)\n",
      "Requirement already satisfied: jsonpointer>1.13 in /opt/anaconda3/envs/fimpef/lib/python3.10/site-packages (from jsonschema[format-nongpl]>=4.18.0->jupyter-events>=0.11.0->jupyter-server<3,>=2.4.0->notebook<8.0.0,>=7.3.2->fimpef) (3.0.0)\n",
      "Requirement already satisfied: uri-template in /opt/anaconda3/envs/fimpef/lib/python3.10/site-packages (from jsonschema[format-nongpl]>=4.18.0->jupyter-events>=0.11.0->jupyter-server<3,>=2.4.0->notebook<8.0.0,>=7.3.2->fimpef) (1.3.0)\n",
      "Requirement already satisfied: webcolors>=24.6.0 in /opt/anaconda3/envs/fimpef/lib/python3.10/site-packages (from jsonschema[format-nongpl]>=4.18.0->jupyter-events>=0.11.0->jupyter-server<3,>=2.4.0->notebook<8.0.0,>=7.3.2->fimpef) (24.11.1)\n",
      "Requirement already satisfied: cffi>=1.0.1 in /opt/anaconda3/envs/fimpef/lib/python3.10/site-packages (from argon2-cffi-bindings->argon2-cffi>=21.1->jupyter-server<3,>=2.4.0->notebook<8.0.0,>=7.3.2->fimpef) (1.17.1)\n",
      "Requirement already satisfied: soupsieve>1.2 in /opt/anaconda3/envs/fimpef/lib/python3.10/site-packages (from beautifulsoup4->nbconvert>=6.4.4->jupyter-server<3,>=2.4.0->notebook<8.0.0,>=7.3.2->fimpef) (2.6)\n",
      "Requirement already satisfied: google-cloud-core<3.0dev,>=2.3.0 in /opt/anaconda3/envs/fimpef/lib/python3.10/site-packages (from google-cloud-storage->earthengine-api>=1.0.0->geemap<0.36.0,>=0.35.1->msfootprint<0.2.0,>=0.1.26->fimpef) (2.4.1)\n",
      "Requirement already satisfied: google-resumable-media>=2.7.2 in /opt/anaconda3/envs/fimpef/lib/python3.10/site-packages (from google-cloud-storage->earthengine-api>=1.0.0->geemap<0.36.0,>=0.35.1->msfootprint<0.2.0,>=0.1.26->fimpef) (2.7.2)\n",
      "Requirement already satisfied: google-crc32c<2.0dev,>=1.0 in /opt/anaconda3/envs/fimpef/lib/python3.10/site-packages (from google-cloud-storage->earthengine-api>=1.0.0->geemap<0.36.0,>=0.35.1->msfootprint<0.2.0,>=0.1.26->fimpef) (1.6.0)\n",
      "Requirement already satisfied: pycparser in /opt/anaconda3/envs/fimpef/lib/python3.10/site-packages (from cffi>=1.0.1->argon2-cffi-bindings->argon2-cffi>=21.1->jupyter-server<3,>=2.4.0->notebook<8.0.0,>=7.3.2->fimpef) (2.22)\n",
      "Requirement already satisfied: googleapis-common-protos<2.0.dev0,>=1.56.2 in /opt/anaconda3/envs/fimpef/lib/python3.10/site-packages (from google-api-core!=2.0.*,!=2.1.*,!=2.2.*,!=2.3.0,<3.0.0.dev0,>=1.31.5->google-api-python-client>=1.12.1->earthengine-api>=1.0.0->geemap<0.36.0,>=0.35.1->msfootprint<0.2.0,>=0.1.26->fimpef) (1.67.0rc1)\n",
      "Requirement already satisfied: protobuf!=3.20.0,!=3.20.1,!=4.21.0,!=4.21.1,!=4.21.2,!=4.21.3,!=4.21.4,!=4.21.5,<6.0.0.dev0,>=3.19.5 in /opt/anaconda3/envs/fimpef/lib/python3.10/site-packages (from google-api-core!=2.0.*,!=2.1.*,!=2.2.*,!=2.3.0,<3.0.0.dev0,>=1.31.5->google-api-python-client>=1.12.1->earthengine-api>=1.0.0->geemap<0.36.0,>=0.35.1->msfootprint<0.2.0,>=0.1.26->fimpef) (5.29.3)\n",
      "Requirement already satisfied: proto-plus<2.0.0dev,>=1.22.3 in /opt/anaconda3/envs/fimpef/lib/python3.10/site-packages (from google-api-core!=2.0.*,!=2.1.*,!=2.2.*,!=2.3.0,<3.0.0.dev0,>=1.31.5->google-api-python-client>=1.12.1->earthengine-api>=1.0.0->geemap<0.36.0,>=0.35.1->msfootprint<0.2.0,>=0.1.26->fimpef) (1.26.0)\n",
      "Requirement already satisfied: parso<0.9.0,>=0.8.4 in /opt/anaconda3/envs/fimpef/lib/python3.10/site-packages (from jedi>=0.16->ipython>=7.23.1->ipykernel>=6.5.0->jupyterlab<4.4,>=4.3.4->notebook<8.0.0,>=7.3.2->fimpef) (0.8.4)\n",
      "Requirement already satisfied: wcwidth in /opt/anaconda3/envs/fimpef/lib/python3.10/site-packages (from prompt_toolkit<3.1.0,>=3.0.41->ipython>=7.23.1->ipykernel>=6.5.0->jupyterlab<4.4,>=4.3.4->notebook<8.0.0,>=7.3.2->fimpef) (0.2.13)\n",
      "Requirement already satisfied: pyasn1<0.7.0,>=0.4.6 in /opt/anaconda3/envs/fimpef/lib/python3.10/site-packages (from pyasn1-modules>=0.2.1->google-auth>=1.4.1->earthengine-api>=1.0.0->geemap<0.36.0,>=0.35.1->msfootprint<0.2.0,>=0.1.26->fimpef) (0.6.1)\n",
      "Requirement already satisfied: arrow>=0.15.0 in /opt/anaconda3/envs/fimpef/lib/python3.10/site-packages (from isoduration->jsonschema[format-nongpl]>=4.18.0->jupyter-events>=0.11.0->jupyter-server<3,>=2.4.0->notebook<8.0.0,>=7.3.2->fimpef) (1.3.0)\n",
      "Requirement already satisfied: executing>=1.2.0 in /opt/anaconda3/envs/fimpef/lib/python3.10/site-packages (from stack_data->ipython>=7.23.1->ipykernel>=6.5.0->jupyterlab<4.4,>=4.3.4->notebook<8.0.0,>=7.3.2->fimpef) (2.2.0)\n",
      "Requirement already satisfied: asttokens>=2.1.0 in /opt/anaconda3/envs/fimpef/lib/python3.10/site-packages (from stack_data->ipython>=7.23.1->ipykernel>=6.5.0->jupyterlab<4.4,>=4.3.4->notebook<8.0.0,>=7.3.2->fimpef) (3.0.0)\n",
      "Requirement already satisfied: pure-eval in /opt/anaconda3/envs/fimpef/lib/python3.10/site-packages (from stack_data->ipython>=7.23.1->ipykernel>=6.5.0->jupyterlab<4.4,>=4.3.4->notebook<8.0.0,>=7.3.2->fimpef) (0.2.3)\n",
      "Requirement already satisfied: types-python-dateutil>=2.8.10 in /opt/anaconda3/envs/fimpef/lib/python3.10/site-packages (from arrow>=0.15.0->isoduration->jsonschema[format-nongpl]>=4.18.0->jupyter-events>=0.11.0->jupyter-server<3,>=2.4.0->notebook<8.0.0,>=7.3.2->fimpef) (2.9.0.20241206)\n",
      "Note: you may need to restart the kernel to use updated packages.\n"
     ]
    }
   ],
   "source": [
    "%pip install fimpef"
   ]
  },
  {
   "cell_type": "markdown",
   "metadata": {},
   "source": [
    "##### **1.2. Directory and File Structure**"
   ]
  },
  {
   "cell_type": "markdown",
   "metadata": {},
   "source": [
    "1. **Main Directory**  \n",
    "   This is the directory that contains all the Flood Inundation Maps (FIMs). The user should place both the benchmark and model-predicted FIMs in the same folder. Ensure that the benchmark file contains the word **\"benchmark\"** in its filename.\n",
    "\n",
    "    The main directory can vary based on the case studies and user requirement. ```Figure 1``` demonstrates that.\n",
    "\n",
    "    <img src=\"../Images/directorystructure.png\" alt=\"Main Directory Structure\" width=\"400\"/>\n",
    "\n",
    "\n",
    "2. **Permanent Water Bodies (PWB)**  \n",
    "   This directory contains the permanent water bodies file in vector format. For the Contiguous United States (CONUS), the PWB is already integrated within the framework however, if user have more accurate PWB or using ```fimpef``` for outside US they can initialize and use PWB within ```fimpef``` framework. Currently it is using PWB publicly hosted by ESRI: https://hub.arcgis.com/datasets/esri::usa-detailed-water-bodies/about\n",
    "\n",
    "3. **Output Directory**  \n",
    "   This directory where all the output as well as intermidiate files will be saved.\n",
    "\n",
    "4. **Building Footprint**  \n",
    "   The directory of the building footprint (in vector format) used for FIM evaluation with buildings. Within the ```fimpef``` the microsoft derived global building footprint is integrated, so if user didnot provide any and willing to evaluate with it, it can automatically retrieve and do further analysis. Currently it uses ```msfootprint``` framework (https://github.com/supathdhitalGEO/msfootprint) to retrieve the data. \n",
    "\n",
    "   If user have better preference, they can use their own data as well. \n",
    "\n",
    "5. **AOI (Area of Interest)**  \n",
    "   The user can specify the flood domain if they have the shapefile of the domain for the evaluation.\n"
   ]
  },
  {
   "cell_type": "markdown",
   "metadata": {},
   "source": [
    "##### **1.3. Importing framework and Initialization**"
   ]
  },
  {
   "cell_type": "code",
   "execution_count": 2,
   "metadata": {},
   "outputs": [],
   "source": [
    "#Import the package\n",
    "import fimpef as fp\n",
    "from pathlib import Path        #To handle file path effectively"
   ]
  },
  {
   "cell_type": "markdown",
   "metadata": {},
   "source": [
    "**Following are mandatory directory initialization to run evaluation**"
   ]
  },
  {
   "cell_type": "code",
   "execution_count": 6,
   "metadata": {},
   "outputs": [],
   "source": [
    "# Import Necessary directories\n",
    "'''This is for only one case, however, you can structure different case studied as mentioned in figure 1 and just mention the main directory.\n",
    "This is generalized for all the cases, you can change the main directory as per your requirement'''\n",
    "main_dir = Path('./sampledata')     \n",
    "\n",
    "#Output dir, if not created, it will be created automatically\n",
    "output_dir = ('./Outputs')"
   ]
  },
  {
   "cell_type": "markdown",
   "metadata": {},
   "source": [
    "**Below cell contain the optional fields, based upon the user requirement and preference, they can define directory and run evaluation**"
   ]
  },
  {
   "cell_type": "code",
   "execution_count": 5,
   "metadata": {},
   "outputs": [],
   "source": [
    "#User can give the directory of the PWB vector file (.shp, .gpkg etc)\n",
    "PWD_dir = Path('./path/to/the/PWB_vector_file')\n",
    "\n",
    "#Way to define the building footprint vector file for further usecase\n",
    "building_footprint = Path('./path/to/the/building_footprint/vector_file')\n",
    "\n",
    "#If user intend to use their own AOI for evaluation, they can define it here\n",
    "AOI  = Path('./path/to/the/AOI/vector_file')"
   ]
  },
  {
   "cell_type": "markdown",
   "metadata": {},
   "source": [
    "##### **1.4. Methods for extracting the flood extents**\n",
    "1. **```smallest_extent```**  \n",
    "   The framework will first check all the raster extents (benchmark and FIMs). It will then determine the smallest among all the rasters. A shape file will then be created to mask all the rasters.\n",
    "\n",
    "2. **```convex_hull```**  \n",
    "   Another provision of determining flood extent is the generation of the minimum bounding polygon along the valid shapes. The framework will select the smallest raster extent followed by the generation of the valid vector shapes from the raster. It will then generate the convex hull (minimum bounding polygon along the valid shapes).\n",
    "\n",
    "3. **```AOI```**  \n",
    "   User can give input  an already pre-defined flood extent vector file. This method will only be valid if user is working with their own evaluation boundary, \n",
    "\n",
    "Depending upon user preference, they need to pass those method name as a argument while running the evaluation."
   ]
  },
  {
   "cell_type": "code",
   "execution_count": 4,
   "metadata": {},
   "outputs": [],
   "source": [
    "#For instance\n",
    "method_name = \"smallest_extent\""
   ]
  },
  {
   "cell_type": "markdown",
   "metadata": {},
   "source": [
    "#### **2. Run the Evaluation Framework** \n",
    "There are sets of module for different functionality structured within the ```fimpef``` and deployed as a python package. So, we will call them with required arguments to perform an analysis."
   ]
  },
  {
   "cell_type": "markdown",
   "metadata": {},
   "source": [
    "##### **2.1. Running the ```EvaluateFIM``` Module**\n",
    "It will evaluate the model predicted/ candidate FIMs with benchmark data with defined method name. The end results will be a different performance metrics (eg. CSI, POD, FAR and a lot more) in CSV format and contingency maps showing different classes (True Positive, False Positive, no data, Permanent water part)."
   ]
  },
  {
   "cell_type": "code",
   "execution_count": null,
   "metadata": {},
   "outputs": [],
   "source": [
    "fp.EvaluateFIM(main_dir, method_name, output_dir)   #It uses the default Permanent Water Bodies (PWB) dataset for United States.\n",
    "\n",
    "#If the User has their PWB shapefile, then give the following argument\n",
    "fp.EvaluateFIM(main_dir, method_name, output_dir, PWB_dir = PWD_dir)"
   ]
  },
  {
   "cell_type": "markdown",
   "metadata": {},
   "source": [
    "##### **2.2. Print the contingency map**\n",
    "\n",
    "Once the FIM evaluation is done, user can print the contingency map by calling the 'PrintContingencyMap' module. Those are calculated and saved in output directory during running the EvaluateFIM. \n",
    "\n",
    "The classes of contingency map is shown below ```Figure 2```.\n",
    "<img src=\"../Images/confusion_matrix.jpg\" alt=\"Main Directory Structure\" width=\"400\"/>\n"
   ]
  },
  {
   "cell_type": "code",
   "execution_count": null,
   "metadata": {},
   "outputs": [],
   "source": [
    "fp.PrintContingencyMap(main_dir, method_name, output_dir)   #All the paths are dynamically called to access the right files"
   ]
  },
  {
   "cell_type": "markdown",
   "metadata": {},
   "source": [
    "##### **2.3. Plot the Evaluation Metrics**\n",
    "\n",
    "User can plot the evaluation metrics by calling the ```PlotEvaluationMetrics``` module of ```fimpef```. The plot will saved as .png in the Output Directory."
   ]
  },
  {
   "cell_type": "code",
   "execution_count": null,
   "metadata": {},
   "outputs": [],
   "source": [
    "fp.PlotEvaluationMetrics(main_dir, method_name, output_dir)"
   ]
  },
  {
   "cell_type": "markdown",
   "metadata": {},
   "source": [
    "##### **2.4. Building Footprint Analysis**\n",
    "\n",
    "For Building Footprint Analysis, user can specify shapefile of building footprints as .shp or .gpkg format. By default it consider global Microsoft building footprint dataset. Those data are hosted in Google Earth Engine (GEE) so, It pops up to authenticate the GEE account, please allow it and it will download the data based on evaluation boundary and evaluation is done."
   ]
  },
  {
   "cell_type": "code",
   "execution_count": null,
   "metadata": {},
   "outputs": [],
   "source": [
    "#If user have their own building footprint dataset, they can use it as well\n",
    "fp.EvaluationWithBuildingFootprint(main_dir, method_name, output_dir, building_footprint = building_footprint)\n",
    "\n",
    "#Sometimes user is working with their own AOI, then they need to pass that shapefile as well\n",
    "fp.EvaluationWithBuildingFootprint(main_dir, method_name, output_dir, building_footprint = building_footprint, shapefile_dir= AOI)"
   ]
  },
  {
   "cell_type": "code",
   "execution_count": null,
   "metadata": {},
   "outputs": [],
   "source": [
    "# FIM Evaluation with Building Footprint (by default, it uses the Microsoft Building Footprint dataset)\n",
    "#3 letter country ISO code\n",
    "countryISO = \"USA\"  #For instance\n",
    "fp.EvaluationWithBuildingFootprint(\n",
    "    main_dir, method_name, output_dir, country=countryISO\n",
    ")"
   ]
  }
 ],
 "metadata": {
  "kernelspec": {
   "display_name": "fimpef",
   "language": "python",
   "name": "python3"
  },
  "language_info": {
   "codemirror_mode": {
    "name": "ipython",
    "version": 3
   },
   "file_extension": ".py",
   "mimetype": "text/x-python",
   "name": "python",
   "nbconvert_exporter": "python",
   "pygments_lexer": "ipython3",
   "version": "3.10.0"
  }
 },
 "nbformat": 4,
 "nbformat_minor": 4
}
